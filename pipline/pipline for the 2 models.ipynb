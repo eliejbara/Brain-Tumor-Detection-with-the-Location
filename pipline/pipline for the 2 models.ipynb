{
  "nbformat": 4,
  "nbformat_minor": 0,
  "metadata": {
    "colab": {
      "provenance": []
    },
    "kernelspec": {
      "name": "python3",
      "display_name": "Python 3"
    },
    "language_info": {
      "name": "python"
    }
  },
  "cells": [
    {
      "cell_type": "code",
      "execution_count": null,
      "metadata": {
        "id": "6LSCwXH4QH1M"
      },
      "outputs": [],
      "source": [
        "import os\n",
        "import cv2\n",
        "import numpy as np\n",
        "from tensorflow.keras.models import load_model\n",
        "from tensorflow.keras.applications.efficientnet import preprocess_input\n",
        "from ultralytics import YOLO\n",
        "import matplotlib.pyplot as plt\n",
        "\n",
        "# Paths\n",
        "CLASSIFICATION_MODEL_PATH = \"classification.keras\"\n",
        "DETECTION_MODEL_PATH = \"bboxes.pt\"\n",
        "IMAGE_FOLDER = \"./testimages\"  # Change to your image folder\n",
        "\n",
        "# Load Models\n",
        "clf_model = load_model(CLASSIFICATION_MODEL_PATH)\n",
        "det_model = YOLO(DETECTION_MODEL_PATH)\n",
        "\n",
        "# Parameters\n",
        "IMG_SIZE = 512\n",
        "THRESHOLD = 0.5\n",
        "\n",
        "# Helper: preprocess single image for classification\n",
        "def preprocess_image(image_path):\n",
        "    img = cv2.imread(image_path, cv2.IMREAD_GRAYSCALE)\n",
        "    if img is None:\n",
        "        return None\n",
        "    old_size = img.shape[:2]\n",
        "    ratio = float(IMG_SIZE) / max(old_size)\n",
        "    new_size = tuple([int(x * ratio) for x in old_size])\n",
        "    img_resized = cv2.resize(img, (new_size[1], new_size[0]))\n",
        "    delta_w = IMG_SIZE - new_size[1]\n",
        "    delta_h = IMG_SIZE - new_size[0]\n",
        "    top, bottom = delta_h // 2, delta_h - delta_h // 2\n",
        "    left, right = delta_w // 2, delta_w - delta_w // 2\n",
        "    padded_img = cv2.copyMakeBorder(img_resized, top, bottom, left, right, cv2.BORDER_CONSTANT, value=0)\n",
        "    padded_img = np.repeat(np.expand_dims(padded_img, -1), 3, axis=-1)\n",
        "    padded_img = preprocess_input(padded_img.astype('float32'))\n",
        "    return np.expand_dims(padded_img, axis=0)\n",
        "\n",
        "# Inference loop\n",
        "for img_name in os.listdir(IMAGE_FOLDER):\n",
        "    img_path = os.path.join(IMAGE_FOLDER, img_name)\n",
        "    processed_img = preprocess_image(img_path)\n",
        "\n",
        "    if processed_img is None:\n",
        "        print(f\"Skipped unreadable image: {img_name}\")\n",
        "        continue\n",
        "\n",
        "    # Classify\n",
        "    prediction = clf_model.predict(processed_img)[0][0]\n",
        "    print(f\"\\n{img_name} - Tumor Probability: {prediction:.4f}\")\n",
        "\n",
        "    if prediction < THRESHOLD:\n",
        "        print(\"No tumor detected.\")\n",
        "    else:\n",
        "        print(\"Tumor detected! Running YOLOv8 detection...\")\n",
        "        det_model.predict(source=img_path, save=True, conf=0.25)\n",
        "        print(f\"Results saved in /runs/detect/predict\")\n"
      ]
    }
  ]
}